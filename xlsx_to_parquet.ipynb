{
 "cells": [
  {
   "cell_type": "code",
   "execution_count": 25,
   "metadata": {},
   "outputs": [],
   "source": [
    "import numpy as np\n",
    "import matplotlib.pyplot as plt\n",
    "import pandas as pd\n",
    "\n",
    "from pandas.api.types import CategoricalDtype\n",
    "import re"
   ]
  },
  {
   "cell_type": "code",
   "execution_count": 39,
   "metadata": {},
   "outputs": [],
   "source": [
    "def parse_interval_column(group_series):\n",
    "    \"\"\"\n",
    "    Parses bin strings like '[80.0, 90.0)' into an ordered categorical dtype,\n",
    "    sorted by numeric left endpoint, suitable for saving and plotting.\n",
    "\n",
    "    Parameters:\n",
    "        group_series (pd.Series): A column of strings like '[80.0, 90.0)'\n",
    "\n",
    "    Returns:\n",
    "        pd.Series: An ordered categorical series with consistent sorting\n",
    "    \"\"\"\n",
    "\n",
    "    # Drop missing values and extract unique labels\n",
    "    group_labels = group_series.dropna().unique()\n",
    "\n",
    "    # Sort labels by numeric left endpoint\n",
    "    def get_left_edge(label):\n",
    "        match = re.match(r\"\\[(\\d+(?:\\.\\d+)?),\", label)\n",
    "        return float(match.group(1)) if match else float('inf')\n",
    "\n",
    "\n",
    "    sorted_labels = sorted(group_labels, key=get_left_edge)\n",
    "\n",
    "\n",
    "    # Create ordered categorical dtype\n",
    "    cat_type = CategoricalDtype(categories=sorted_labels, ordered=True)\n",
    "\n",
    "    # Apply it to the full series (including NaNs if present)\n",
    "    return group_series.astype(cat_type)\n"
   ]
  },
  {
   "cell_type": "markdown",
   "metadata": {},
   "source": [
    "1. codigos escolas distritos"
   ]
  },
  {
   "cell_type": "code",
   "execution_count": 68,
   "metadata": {},
   "outputs": [
    {
     "name": "stdout",
     "output_type": "stream",
     "text": [
      "   escola                                       escola_descr  escola_distrito  \\\n",
      "0       2  Escola BÃ¡sica e SecundÃ¡ria de Michel Giacome...             15.0   \n",
      "1      31  Escola BÃ¡sica e SecundÃ¡ria Dr. JoÃ£o Brito C...              2.0   \n",
      "2      39            Escola BÃ¡sica e SecundÃ¡ria de Ourique              2.0   \n",
      "3      47  Escola BÃ¡sica e SecundÃ¡ria de Cabeceiras de ...              3.0   \n",
      "4      49  Escola BÃ¡sica e SecundÃ¡ria de Celorico de Basto              3.0   \n",
      "\n",
      "  escola_distrito_descr  escola_concelho escola_concelho_descr escola_pubpriv  \n",
      "0              SetÃºbal             11.0              Sesimbra            PUB  \n",
      "1                  Beja              2.0            AlmodÃ´var            PUB  \n",
      "2                  Beja             12.0               Ourique            PUB  \n",
      "3                 Braga              4.0   Cabeceiras de Basto            PUB  \n",
      "4                 Braga              5.0     Celorico de Basto            PUB  \n",
      "escola                     int64\n",
      "escola_descr              object\n",
      "escola_distrito          float64\n",
      "escola_distrito_descr     object\n",
      "escola_concelho          float64\n",
      "escola_concelho_descr     object\n",
      "escola_pubpriv            object\n",
      "dtype: object\n",
      "escola                   category\n",
      "escola_descr             category\n",
      "escola_distrito          category\n",
      "escola_distrito_descr    category\n",
      "escola_concelho          category\n",
      "escola_concelho_descr    category\n",
      "escola_pubpriv           category\n",
      "dtype: object\n",
      "Total rows: 689\n",
      "Rows with at least one NaN: 3\n",
      "Percentage with NaN: 0.4%\n"
     ]
    }
   ],
   "source": [
    "# Load the Excel file\n",
    "df = pd.read_excel(\"data_xlsx/codigos_escolas_distritos.xlsx\", engine=\"openpyxl\")\n",
    "\n",
    "# Display the first few rows\n",
    "print(df.head())\n",
    "\n",
    "# see type of variables\n",
    "print(df.dtypes)\n",
    "\n",
    "# change floats to integers\n",
    "df[\"escola_distrito\"] = pd.to_numeric(df[\"escola_distrito\"], errors=\"coerce\").astype(\"Int64\")\n",
    "df[\"escola_concelho\"] = pd.to_numeric(df[\"escola_concelho\"], errors=\"coerce\").astype(\"Int64\")\n",
    "\n",
    "has_leading_zeros = df['escola'].astype(str).str.match('^0+\\d+')\n",
    "if has_leading_zeros.any():\n",
    "    print(\"Found values with leading zeros\")\n",
    "    print(df[has_leading_zeros]['your_column'])\n",
    "\n",
    "has_leading_zeros = df['escola_distrito'].astype(str).str.match('^0+\\d+')\n",
    "if has_leading_zeros.any():\n",
    "    print(\"Found values with leading zeros\")\n",
    "    print(df[has_leading_zeros]['your_column'])\n",
    "\n",
    "has_leading_zeros = df['escola_concelho'].astype(str).str.match('^0+\\d+')\n",
    "if has_leading_zeros.any():\n",
    "    print(\"Found values with leading zeros\")\n",
    "    print(df[has_leading_zeros]['your_column'])\n",
    "\n",
    "df[\"escola\"] = df[\"escola\"].astype(\"category\")\n",
    "df[\"escola_descr\"] = df[\"escola_descr\"].astype(\"category\")\n",
    "df[\"escola_distrito\"] = df[\"escola_distrito\"].astype(\"category\")\n",
    "df[\"escola_distrito_descr\"] = df[\"escola_distrito_descr\"].astype(\"category\")\n",
    "df[\"escola_concelho\"] = df[\"escola_concelho\"].astype(\"category\")\n",
    "df[\"escola_concelho_descr\"] = df[\"escola_concelho_descr\"].astype(\"category\")\n",
    "df[\"escola_pubpriv\"] = df[\"escola_pubpriv\"].astype(\"category\")\n",
    "\n",
    "# see type of variables\n",
    "print(df.dtypes)\n",
    "\n",
    "# Total rows\n",
    "total_rows = len(df)\n",
    "\n",
    "# Rows with at least one NaN\n",
    "rows_with_nan = df.isna().any(axis=1).sum()\n",
    "\n",
    "print(f\"Total rows: {total_rows}\")\n",
    "print(f\"Rows with at least one NaN: {rows_with_nan}\")\n",
    "print(f\"Percentage with NaN: {(rows_with_nan/total_rows*100):.1f}%\")"
   ]
  },
  {
   "cell_type": "code",
   "execution_count": 7,
   "metadata": {},
   "outputs": [],
   "source": [
    "df.to_parquet(\"data_parquet/codigos_escolas_distritos.parquet\", engine=\"pyarrow\")  # Save"
   ]
  },
  {
   "cell_type": "markdown",
   "metadata": {},
   "source": [
    "2. inflacao disciplinas"
   ]
  },
  {
   "cell_type": "code",
   "execution_count": 70,
   "metadata": {},
   "outputs": [
    {
     "name": "stdout",
     "output_type": "stream",
     "text": [
      "Number of sheets: 2\n",
      "\n",
      "Head of sheet 'Folha1':\n",
      "Empty DataFrame\n",
      "Columns: []\n",
      "Index: []\n",
      "\n",
      "Head of sheet 'Folha2':\n",
      "       GROUP PUBPRIV  EXAME  INFLACAO    INF_STD  NSAMPLES  \\\n",
      "0    [60,70)     PUB    126    11.750  54.328476         4   \n",
      "1   [90,100)     PUB    126    23.000  28.011902         4   \n",
      "2  [100,110)     PUB    126    16.600  21.972710         5   \n",
      "3  [110,120)     PUB    126     7.750  18.355290         4   \n",
      "4  [100,110)     PUB    127    -8.125  42.265952         8   \n",
      "\n",
      "                  EXAME_DESCR  \n",
      "0  Geometria Descritiva A -NE  \n",
      "1  Geometria Descritiva A -NE  \n",
      "2  Geometria Descritiva A -NE  \n",
      "3  Geometria Descritiva A -NE  \n",
      "4   Literatura Portuguesa -NE  \n",
      "GROUP           object\n",
      "PUBPRIV         object\n",
      "EXAME            int64\n",
      "INFLACAO       float64\n",
      "INF_STD        float64\n",
      "NSAMPLES         int64\n",
      "EXAME_DESCR     object\n",
      "dtype: object\n"
     ]
    }
   ],
   "source": [
    "dfs = pd.read_excel(\"data_xlsx/inflacao_disciplina.xlsx\", sheet_name=None, engine=\"openpyxl\")\n",
    "\n",
    "# Get the number of sheets\n",
    "num_sheets = len(dfs)\n",
    "print(f\"Number of sheets: {num_sheets}\")\n",
    "\n",
    "# Show the head of each sheet\n",
    "for sheet_name, df in dfs.items():\n",
    "    print(f\"\\nHead of sheet '{sheet_name}':\")\n",
    "    print(df.head())  # You can adjust the number of rows shown with head(n)\n",
    "\n",
    "df = dfs[\"Folha2\"]\n",
    "\n",
    "# see type of variables\n",
    "print(df.dtypes)\n",
    "\n",
    "has_leading_zeros = df['EXAME'].astype(str).str.match('^0+\\d+')\n",
    "if has_leading_zeros.any():\n",
    "    print(\"Found values with leading zeros\")\n",
    "    print(df[has_leading_zeros]['EXAME'])\n"
   ]
  },
  {
   "cell_type": "code",
   "execution_count": 71,
   "metadata": {},
   "outputs": [],
   "source": [
    "df['GROUP'] = pd.IntervalIndex.from_arrays(\n",
    "    df['GROUP'].str.extract('\\[(\\d+),(\\d+)\\)').astype(float).iloc[:, 0],\n",
    "    df['GROUP'].str.extract('\\[(\\d+),(\\d+)\\)').astype(float).iloc[:, 1],\n",
    "    closed='left'\n",
    ")"
   ]
  },
  {
   "cell_type": "code",
   "execution_count": 72,
   "metadata": {},
   "outputs": [
    {
     "name": "stdout",
     "output_type": "stream",
     "text": [
      "GROUP          interval[float64, left]\n",
      "PUBPRIV                         object\n",
      "EXAME                            int64\n",
      "INFLACAO                       float64\n",
      "INF_STD                        float64\n",
      "NSAMPLES                         int64\n",
      "EXAME_DESCR                     object\n",
      "dtype: object\n",
      "            GROUP PUBPRIV  EXAME  INFLACAO    INF_STD  NSAMPLES  \\\n",
      "0    [60.0, 70.0)     PUB    126    11.750  54.328476         4   \n",
      "1   [90.0, 100.0)     PUB    126    23.000  28.011902         4   \n",
      "2  [100.0, 110.0)     PUB    126    16.600  21.972710         5   \n",
      "3  [110.0, 120.0)     PUB    126     7.750  18.355290         4   \n",
      "4  [100.0, 110.0)     PUB    127    -8.125  42.265952         8   \n",
      "\n",
      "                  EXAME_DESCR  \n",
      "0  Geometria Descritiva A -NE  \n",
      "1  Geometria Descritiva A -NE  \n",
      "2  Geometria Descritiva A -NE  \n",
      "3  Geometria Descritiva A -NE  \n",
      "4   Literatura Portuguesa -NE  \n"
     ]
    }
   ],
   "source": [
    "print(df.dtypes)\n",
    "print(df.head())"
   ]
  },
  {
   "cell_type": "code",
   "execution_count": 73,
   "metadata": {},
   "outputs": [
    {
     "name": "stdout",
     "output_type": "stream",
     "text": [
      "GROUP          interval[float64, left]\n",
      "PUBPRIV                       category\n",
      "EXAME                         category\n",
      "INFLACAO                       float64\n",
      "INF_STD                        float64\n",
      "NSAMPLES                         int64\n",
      "EXAME_DESCR                   category\n",
      "dtype: object\n",
      "            GROUP PUBPRIV EXAME  INFLACAO    INF_STD  NSAMPLES  \\\n",
      "0    [60.0, 70.0)     PUB   126    11.750  54.328476         4   \n",
      "1   [90.0, 100.0)     PUB   126    23.000  28.011902         4   \n",
      "2  [100.0, 110.0)     PUB   126    16.600  21.972710         5   \n",
      "3  [110.0, 120.0)     PUB   126     7.750  18.355290         4   \n",
      "4  [100.0, 110.0)     PUB   127    -8.125  42.265952         8   \n",
      "\n",
      "                  EXAME_DESCR  \n",
      "0  Geometria Descritiva A -NE  \n",
      "1  Geometria Descritiva A -NE  \n",
      "2  Geometria Descritiva A -NE  \n",
      "3  Geometria Descritiva A -NE  \n",
      "4   Literatura Portuguesa -NE  \n",
      "Total rows: 887\n",
      "Rows with at least one NaN: 40\n",
      "Percentage with NaN: 4.5%\n"
     ]
    }
   ],
   "source": [
    "#change to categories for efficiency and correctness\n",
    "df[\"PUBPRIV\"] = df[\"PUBPRIV\"].astype(\"category\")\n",
    "df[\"EXAME\"] = df[\"EXAME\"].astype(\"category\")\n",
    "df[\"EXAME_DESCR\"] = df[\"EXAME_DESCR\"].astype(\"category\")\n",
    "\n",
    "# see type of variables\n",
    "print(df.dtypes)\n",
    "print(df.head())\n",
    "\n",
    "# Total rows\n",
    "total_rows = len(df)\n",
    "\n",
    "# Rows with at least one NaN\n",
    "rows_with_nan = df.isna().any(axis=1).sum()\n",
    "\n",
    "print(f\"Total rows: {total_rows}\")\n",
    "print(f\"Rows with at least one NaN: {rows_with_nan}\")\n",
    "print(f\"Percentage with NaN: {(rows_with_nan/total_rows*100):.1f}%\")"
   ]
  },
  {
   "cell_type": "code",
   "execution_count": 22,
   "metadata": {},
   "outputs": [],
   "source": [
    "\n",
    "\n",
    "df.to_parquet(\"data_parquet/inflacao_disciplina.parquet\", engine=\"pyarrow\")  # Save"
   ]
  },
  {
   "cell_type": "markdown",
   "metadata": {},
   "source": [
    "3. inflacao distritos"
   ]
  },
  {
   "cell_type": "code",
   "execution_count": 74,
   "metadata": {},
   "outputs": [
    {
     "name": "stdout",
     "output_type": "stream",
     "text": [
      "Number of sheets: 2\n",
      "\n",
      "Head of sheet 'Folha1':\n",
      "Empty DataFrame\n",
      "Columns: []\n",
      "Index: []\n",
      "\n",
      "Head of sheet 'Folha2':\n",
      "     GROUP PUBPRIV  ESCOLA_DISTRITO    INFLACAO    INF_STD  NSAMPLES  \\\n",
      "0   [0,10)     PRI              1.0  107.000000  30.670290         4   \n",
      "1  [10,20)     PRI              1.0   90.111111   9.498538        18   \n",
      "2  [20,30)     PRI              1.0   82.971429  15.951186        35   \n",
      "3  [30,40)     PRI              1.0   77.961538  15.180773       130   \n",
      "4  [40,50)     PRI              1.0   68.770161  14.884426       248   \n",
      "\n",
      "  ESCOLA_DISTRITO_DESCR  \n",
      "0                Aveiro  \n",
      "1                Aveiro  \n",
      "2                Aveiro  \n",
      "3                Aveiro  \n",
      "4                Aveiro  \n",
      "GROUP                     object\n",
      "PUBPRIV                   object\n",
      "ESCOLA_DISTRITO          float64\n",
      "INFLACAO                 float64\n",
      "INF_STD                  float64\n",
      "NSAMPLES                   int64\n",
      "ESCOLA_DISTRITO_DESCR     object\n",
      "dtype: object\n"
     ]
    }
   ],
   "source": [
    "dfs = pd.read_excel(\"data_xlsx/inflacao_distritos.xlsx\", sheet_name=None, engine=\"openpyxl\")\n",
    "\n",
    "# Get the number of sheets\n",
    "num_sheets = len(dfs)\n",
    "print(f\"Number of sheets: {num_sheets}\")\n",
    "\n",
    "# Show the head of each sheet\n",
    "for sheet_name, df in dfs.items():\n",
    "    print(f\"\\nHead of sheet '{sheet_name}':\")\n",
    "    print(df.head())  # You can adjust the number of rows shown with head(n)\n",
    "\n",
    "df = dfs[\"Folha2\"]\n",
    "\n",
    "# see type of variables\n",
    "print(df.dtypes)\n",
    "\n",
    "df[\"ESCOLA_DISTRITO\"] = pd.to_numeric(df[\"ESCOLA_DISTRITO\"], errors=\"coerce\").astype(\"Int64\")\n",
    "\n",
    "has_leading_zeros = df['ESCOLA_DISTRITO'].astype(str).str.match('^0+\\d+')\n",
    "if has_leading_zeros.any():\n",
    "    print(\"Found values with leading zeros\")\n",
    "    print(df[has_leading_zeros]['EXAME'])"
   ]
  },
  {
   "cell_type": "code",
   "execution_count": 75,
   "metadata": {},
   "outputs": [
    {
     "name": "stdout",
     "output_type": "stream",
     "text": [
      "GROUP                    interval[float64, left]\n",
      "PUBPRIV                                 category\n",
      "ESCOLA_DISTRITO                         category\n",
      "INFLACAO                                 float64\n",
      "INF_STD                                  float64\n",
      "NSAMPLES                                   int64\n",
      "ESCOLA_DISTRITO_DESCR                   category\n",
      "dtype: object\n",
      "          GROUP PUBPRIV ESCOLA_DISTRITO    INFLACAO    INF_STD  NSAMPLES  \\\n",
      "0   [0.0, 10.0)     PRI               1  107.000000  30.670290         4   \n",
      "1  [10.0, 20.0)     PRI               1   90.111111   9.498538        18   \n",
      "2  [20.0, 30.0)     PRI               1   82.971429  15.951186        35   \n",
      "3  [30.0, 40.0)     PRI               1   77.961538  15.180773       130   \n",
      "4  [40.0, 50.0)     PRI               1   68.770161  14.884426       248   \n",
      "\n",
      "  ESCOLA_DISTRITO_DESCR  \n",
      "0                Aveiro  \n",
      "1                Aveiro  \n",
      "2                Aveiro  \n",
      "3                Aveiro  \n",
      "4                Aveiro  \n",
      "Total rows: 785\n",
      "Rows with at least one NaN: 75\n",
      "Percentage with NaN: 9.6%\n"
     ]
    }
   ],
   "source": [
    "df['GROUP'] = pd.IntervalIndex.from_arrays(\n",
    "    df['GROUP'].str.extract('\\[(\\d+),(\\d+)\\)').astype(float).iloc[:, 0],\n",
    "    df['GROUP'].str.extract('\\[(\\d+),(\\d+)\\)').astype(float).iloc[:, 1],\n",
    "    closed='left'\n",
    ")\n",
    "\n",
    "#change to categories for efficiency and correctness\n",
    "df[\"PUBPRIV\"] = df[\"PUBPRIV\"].astype(\"category\")\n",
    "df[\"ESCOLA_DISTRITO\"] = df[\"ESCOLA_DISTRITO\"].astype(\"category\")\n",
    "df[\"ESCOLA_DISTRITO_DESCR\"] = df[\"ESCOLA_DISTRITO_DESCR\"].astype(\"category\")\n",
    "\n",
    "# see type of variables\n",
    "print(df.dtypes)\n",
    "print(df.head())\n",
    "\n",
    "# Total rows\n",
    "total_rows = len(df)\n",
    "\n",
    "# Rows with at least one NaN\n",
    "rows_with_nan = df.isna().any(axis=1).sum()\n",
    "\n",
    "print(f\"Total rows: {total_rows}\")\n",
    "print(f\"Rows with at least one NaN: {rows_with_nan}\")\n",
    "print(f\"Percentage with NaN: {(rows_with_nan/total_rows*100):.1f}%\")"
   ]
  },
  {
   "cell_type": "code",
   "execution_count": 25,
   "metadata": {},
   "outputs": [],
   "source": [
    "df.to_parquet(\"data_parquet/inflacao_distritos.parquet\", engine=\"pyarrow\")  # Save"
   ]
  },
  {
   "cell_type": "markdown",
   "metadata": {},
   "source": [
    "4. inflacao_escola_bins_anos"
   ]
  },
  {
   "cell_type": "code",
   "execution_count": 42,
   "metadata": {},
   "outputs": [
    {
     "name": "stdout",
     "output_type": "stream",
     "text": [
      "Number of sheets: 2\n",
      "\n",
      "Head of sheet 'Folha1':\n",
      "Empty DataFrame\n",
      "Columns: []\n",
      "Index: []\n",
      "\n",
      "Head of sheet 'Folha2':\n",
      "     GROUP  ESCOLA   ANO   INFLACAO    INF_STD  NSAMPLES  \\\n",
      "0  [30,40)       2  2014  73.750000   4.924429         4   \n",
      "1  [40,50)       2  2014  62.625000   4.657943         8   \n",
      "2  [50,60)       2  2014  55.000000  11.520732        12   \n",
      "3  [60,70)       2  2014  46.333333  12.804389        15   \n",
      "4  [70,80)       2  2014  40.222222  12.587472         9   \n",
      "\n",
      "                                        ESCOLA_DESCR ESCOLA_PUBPRIV  \n",
      "0  Escola BÃ¡sica e SecundÃ¡ria de Michel Giacometti            PUB  \n",
      "1  Escola BÃ¡sica e SecundÃ¡ria de Michel Giacometti            PUB  \n",
      "2  Escola BÃ¡sica e SecundÃ¡ria de Michel Giacometti            PUB  \n",
      "3  Escola BÃ¡sica e SecundÃ¡ria de Michel Giacometti            PUB  \n",
      "4  Escola BÃ¡sica e SecundÃ¡ria de Michel Giacometti            PUB  \n",
      "GROUP              object\n",
      "ESCOLA              int64\n",
      "ANO                 int64\n",
      "INFLACAO          float64\n",
      "INF_STD           float64\n",
      "NSAMPLES            int64\n",
      "ESCOLA_DESCR       object\n",
      "ESCOLA_PUBPRIV     object\n",
      "dtype: object\n"
     ]
    }
   ],
   "source": [
    "dfs = pd.read_excel(\"data_xlsx/inflacao_escola_bins_anos.xlsx\", sheet_name=None, engine=\"openpyxl\")\n",
    "\n",
    "# Get the number of sheets\n",
    "num_sheets = len(dfs)\n",
    "print(f\"Number of sheets: {num_sheets}\")\n",
    "\n",
    "# Show the head of each sheet\n",
    "for sheet_name, df in dfs.items():\n",
    "    print(f\"\\nHead of sheet '{sheet_name}':\")\n",
    "    print(df.head())  # You can adjust the number of rows shown with head(n)\n",
    "\n",
    "df = dfs[\"Folha2\"]\n",
    "\n",
    "# see type of variables\n",
    "print(df.dtypes)\n",
    "\n",
    "has_leading_zeros = df['ESCOLA'].astype(str).str.match('^0+\\d+')\n",
    "if has_leading_zeros.any():\n",
    "    print(\"Found values with leading zeros\")\n",
    "    print(df[has_leading_zeros]['ESCOLA'])"
   ]
  },
  {
   "cell_type": "code",
   "execution_count": 43,
   "metadata": {},
   "outputs": [
    {
     "name": "stdout",
     "output_type": "stream",
     "text": [
      "GROUP             category\n",
      "ESCOLA            category\n",
      "ANO                  int64\n",
      "INFLACAO           float64\n",
      "INF_STD            float64\n",
      "NSAMPLES             int64\n",
      "ESCOLA_DESCR      category\n",
      "ESCOLA_PUBPRIV    category\n",
      "dtype: object\n",
      "     GROUP ESCOLA   ANO   INFLACAO    INF_STD  NSAMPLES  \\\n",
      "0  [30,40)      2  2014  73.750000   4.924429         4   \n",
      "1  [40,50)      2  2014  62.625000   4.657943         8   \n",
      "2  [50,60)      2  2014  55.000000  11.520732        12   \n",
      "3  [60,70)      2  2014  46.333333  12.804389        15   \n",
      "4  [70,80)      2  2014  40.222222  12.587472         9   \n",
      "\n",
      "                                        ESCOLA_DESCR ESCOLA_PUBPRIV  \n",
      "0  Escola BÃ¡sica e SecundÃ¡ria de Michel Giacometti            PUB  \n",
      "1  Escola BÃ¡sica e SecundÃ¡ria de Michel Giacometti            PUB  \n",
      "2  Escola BÃ¡sica e SecundÃ¡ria de Michel Giacometti            PUB  \n",
      "3  Escola BÃ¡sica e SecundÃ¡ria de Michel Giacometti            PUB  \n",
      "4  Escola BÃ¡sica e SecundÃ¡ria de Michel Giacometti            PUB  \n",
      "Total rows: 56485\n",
      "Rows with at least one NaN: 11\n",
      "Percentage with NaN: 0.0%\n"
     ]
    }
   ],
   "source": [
    "df['GROUP'] = parse_interval_column(df['GROUP'])\n",
    "\n",
    "#change to categories for efficiency and correctness\n",
    "df[\"ESCOLA\"] = df[\"ESCOLA\"].astype(\"category\")\n",
    "df[\"ESCOLA_DESCR\"] = df[\"ESCOLA_DESCR\"].astype(\"category\")\n",
    "df[\"ESCOLA_PUBPRIV\"] = df[\"ESCOLA_PUBPRIV\"].astype(\"category\")\n",
    "\n",
    "# see type of variables\n",
    "print(df.dtypes)\n",
    "print(df.head())\n",
    "\n",
    "# Total rows\n",
    "total_rows = len(df)\n",
    "\n",
    "# Rows with at least one NaN\n",
    "rows_with_nan = df.isna().any(axis=1).sum()\n",
    "\n",
    "print(f\"Total rows: {total_rows}\")\n",
    "print(f\"Rows with at least one NaN: {rows_with_nan}\")\n",
    "print(f\"Percentage with NaN: {(rows_with_nan/total_rows*100):.1f}%\")"
   ]
  },
  {
   "cell_type": "code",
   "execution_count": 49,
   "metadata": {},
   "outputs": [],
   "source": [
    "df.to_parquet(\"data_parquet/inflacao_escola_bins_anos.parquet\", engine=\"pyarrow\")  # Save"
   ]
  },
  {
   "cell_type": "markdown",
   "metadata": {},
   "source": [
    "5. inflacao_escola_bins"
   ]
  },
  {
   "cell_type": "code",
   "execution_count": 40,
   "metadata": {},
   "outputs": [
    {
     "name": "stdout",
     "output_type": "stream",
     "text": [
      "Number of sheets: 2\n",
      "\n",
      "Head of sheet 'Folha1':\n",
      "Empty DataFrame\n",
      "Columns: []\n",
      "Index: []\n",
      "\n",
      "Head of sheet 'Folha2':\n",
      "     GROUP  ESCOLA   INFLACAO    INF_STD  NSAMPLES  \\\n",
      "0  [10,20)       2  93.500000  11.096975         8   \n",
      "1  [20,30)       2  81.357143   8.983807        14   \n",
      "2  [30,40)       2  78.139535   9.946479        43   \n",
      "3  [40,50)       2  66.636364  12.363266        66   \n",
      "4  [50,60)       2  62.225806  14.526029       124   \n",
      "\n",
      "                                        ESCOLA_DESCR ESCOLA_PUBPRIV  \n",
      "0  Escola BÃ¡sica e SecundÃ¡ria de Michel Giacometti            PUB  \n",
      "1  Escola BÃ¡sica e SecundÃ¡ria de Michel Giacometti            PUB  \n",
      "2  Escola BÃ¡sica e SecundÃ¡ria de Michel Giacometti            PUB  \n",
      "3  Escola BÃ¡sica e SecundÃ¡ria de Michel Giacometti            PUB  \n",
      "4  Escola BÃ¡sica e SecundÃ¡ria de Michel Giacometti            PUB  \n",
      "GROUP              object\n",
      "ESCOLA              int64\n",
      "INFLACAO          float64\n",
      "INF_STD           float64\n",
      "NSAMPLES            int64\n",
      "ESCOLA_DESCR       object\n",
      "ESCOLA_PUBPRIV     object\n",
      "dtype: object\n"
     ]
    }
   ],
   "source": [
    "dfs = pd.read_excel(\"data_xlsx/inflacao_escola_bins.xlsx\", sheet_name=None, engine=\"openpyxl\")\n",
    "\n",
    "# Get the number of sheets\n",
    "num_sheets = len(dfs)\n",
    "print(f\"Number of sheets: {num_sheets}\")\n",
    "\n",
    "# Show the head of each sheet\n",
    "for sheet_name, df in dfs.items():\n",
    "    print(f\"\\nHead of sheet '{sheet_name}':\")\n",
    "    print(df.head())  # You can adjust the number of rows shown with head(n)\n",
    "\n",
    "df = dfs[\"Folha2\"]\n",
    "\n",
    "# see type of variables\n",
    "print(df.dtypes)\n",
    "\n",
    "has_leading_zeros = df['ESCOLA'].astype(str).str.match('^0+\\d+')\n",
    "if has_leading_zeros.any():\n",
    "    print(\"Found values with leading zeros\")\n",
    "    print(df[has_leading_zeros]['ESCOLA'])"
   ]
  },
  {
   "cell_type": "code",
   "execution_count": 41,
   "metadata": {},
   "outputs": [
    {
     "name": "stdout",
     "output_type": "stream",
     "text": [
      "0    [10,20)\n",
      "1    [20,30)\n",
      "2    [30,40)\n",
      "3    [40,50)\n",
      "4    [50,60)\n",
      "Name: GROUP, dtype: category\n",
      "Categories (20, object): ['[0,10)' < '[10,20)' < '[20,30)' < '[30,40)' ... '[160,170)' < '[170,180)' < '[180,190)' < '[190,200]']\n",
      "Index(['[0,10)', '[10,20)', '[20,30)', '[30,40)', '[40,50)', '[50,60)',\n",
      "       '[60,70)', '[70,80)', '[80,90)', '[90,100)', '[100,110)', '[110,120)',\n",
      "       '[120,130)', '[130,140)', '[140,150)', '[150,160)', '[160,170)',\n",
      "       '[170,180)', '[180,190)', '[190,200]'],\n",
      "      dtype='object')\n",
      "GROUP             category\n",
      "ESCOLA            category\n",
      "INFLACAO           float64\n",
      "INF_STD            float64\n",
      "NSAMPLES             int64\n",
      "ESCOLA_DESCR      category\n",
      "ESCOLA_PUBPRIV    category\n",
      "dtype: object\n",
      "     GROUP ESCOLA   INFLACAO    INF_STD  NSAMPLES  \\\n",
      "0  [10,20)      2  93.500000  11.096975         8   \n",
      "1  [20,30)      2  81.357143   8.983807        14   \n",
      "2  [30,40)      2  78.139535   9.946479        43   \n",
      "3  [40,50)      2  66.636364  12.363266        66   \n",
      "4  [50,60)      2  62.225806  14.526029       124   \n",
      "\n",
      "                                        ESCOLA_DESCR ESCOLA_PUBPRIV  \n",
      "0  Escola BÃ¡sica e SecundÃ¡ria de Michel Giacometti            PUB  \n",
      "1  Escola BÃ¡sica e SecundÃ¡ria de Michel Giacometti            PUB  \n",
      "2  Escola BÃ¡sica e SecundÃ¡ria de Michel Giacometti            PUB  \n",
      "3  Escola BÃ¡sica e SecundÃ¡ria de Michel Giacometti            PUB  \n",
      "4  Escola BÃ¡sica e SecundÃ¡ria de Michel Giacometti            PUB  \n",
      "Total rows: 11785\n",
      "Rows with at least one NaN: 11\n",
      "Percentage with NaN: 0.1%\n"
     ]
    }
   ],
   "source": [
    "df['GROUP'] = parse_interval_column(df['GROUP'])\n",
    "parsed = df['GROUP']\n",
    "print(parsed.head())\n",
    "print(parsed.cat.categories)\n",
    "\n",
    "\n",
    "#change to categories for efficiency and correctness\n",
    "df[\"ESCOLA\"] = df[\"ESCOLA\"].astype(\"category\")\n",
    "df[\"ESCOLA_DESCR\"] = df[\"ESCOLA_DESCR\"].astype(\"category\")\n",
    "df[\"ESCOLA_PUBPRIV\"] = df[\"ESCOLA_PUBPRIV\"].astype(\"category\")\n",
    "\n",
    "# see type of variables\n",
    "print(df.dtypes)\n",
    "print(df.head())\n",
    "\n",
    "# Total rows\n",
    "total_rows = len(df)\n",
    "\n",
    "# Rows with at least one NaN\n",
    "rows_with_nan = df.isna().any(axis=1).sum()\n",
    "\n",
    "print(f\"Total rows: {total_rows}\")\n",
    "print(f\"Rows with at least one NaN: {rows_with_nan}\")\n",
    "print(f\"Percentage with NaN: {(rows_with_nan/total_rows*100):.1f}%\")"
   ]
  },
  {
   "cell_type": "code",
   "execution_count": 32,
   "metadata": {},
   "outputs": [],
   "source": [
    "df.to_parquet(\"data_parquet/inflacao_escola_bins.parquet\", engine=\"pyarrow\")  # Save"
   ]
  },
  {
   "cell_type": "markdown",
   "metadata": {},
   "source": [
    "6. inflacao_escolas_anos"
   ]
  },
  {
   "cell_type": "code",
   "execution_count": 80,
   "metadata": {},
   "outputs": [
    {
     "name": "stdout",
     "output_type": "stream",
     "text": [
      "Number of sheets: 2\n",
      "\n",
      "Head of sheet 'Folha1':\n",
      "Empty DataFrame\n",
      "Columns: []\n",
      "Index: []\n",
      "\n",
      "Head of sheet 'Folha2':\n",
      "   ESCOLA   ANO   INFLACAO    INF_STD  NSAMPLES  \\\n",
      "0       2  2014  25.248677  26.476335       189   \n",
      "1      39  2014  35.550000  41.098350        40   \n",
      "2      49  2014  33.449057  25.026165       265   \n",
      "3      57  2014  28.392857  33.254729        28   \n",
      "4      62  2014  45.120000  32.764241        50   \n",
      "\n",
      "                                        ESCOLA_DESCR ESCOLA_PUBPRIV  \n",
      "0  Escola BÃ¡sica e SecundÃ¡ria de Michel Giacometti            PUB  \n",
      "1            Escola BÃ¡sica e SecundÃ¡ria de Ourique            PUB  \n",
      "2  Escola BÃ¡sica e SecundÃ¡ria de Celorico de Basto            PUB  \n",
      "3    Escola BÃ¡sica e SecundÃ¡ria de Terras de Bouro            PUB  \n",
      "4   Escola BÃ¡sica e SecundÃ¡ria de Alfandega da FÃ©            PUB  \n",
      "ESCOLA              int64\n",
      "ANO                 int64\n",
      "INFLACAO          float64\n",
      "INF_STD           float64\n",
      "NSAMPLES            int64\n",
      "ESCOLA_DESCR       object\n",
      "ESCOLA_PUBPRIV     object\n",
      "dtype: object\n"
     ]
    }
   ],
   "source": [
    "dfs = pd.read_excel(\"data_xlsx/inflacao_escolas_anos.xlsx\", sheet_name=None, engine=\"openpyxl\")\n",
    "\n",
    "# Get the number of sheets\n",
    "num_sheets = len(dfs)\n",
    "print(f\"Number of sheets: {num_sheets}\")\n",
    "\n",
    "# Show the head of each sheet\n",
    "for sheet_name, df in dfs.items():\n",
    "    print(f\"\\nHead of sheet '{sheet_name}':\")\n",
    "    print(df.head())  # You can adjust the number of rows shown with head(n)\n",
    "\n",
    "df = dfs[\"Folha2\"]\n",
    "\n",
    "# see type of variables\n",
    "print(df.dtypes)\n",
    "\n",
    "has_leading_zeros = df['ESCOLA'].astype(str).str.match('^0+\\d+')\n",
    "if has_leading_zeros.any():\n",
    "    print(\"Found values with leading zeros\")\n",
    "    print(df[has_leading_zeros]['ESCOLA'])"
   ]
  },
  {
   "cell_type": "code",
   "execution_count": 81,
   "metadata": {},
   "outputs": [
    {
     "name": "stdout",
     "output_type": "stream",
     "text": [
      "ESCOLA            category\n",
      "ANO                  int64\n",
      "INFLACAO           float64\n",
      "INF_STD            float64\n",
      "NSAMPLES             int64\n",
      "ESCOLA_DESCR      category\n",
      "ESCOLA_PUBPRIV    category\n",
      "dtype: object\n",
      "  ESCOLA   ANO   INFLACAO    INF_STD  NSAMPLES  \\\n",
      "0      2  2014  25.248677  26.476335       189   \n",
      "1     39  2014  35.550000  41.098350        40   \n",
      "2     49  2014  33.449057  25.026165       265   \n",
      "3     57  2014  28.392857  33.254729        28   \n",
      "4     62  2014  45.120000  32.764241        50   \n",
      "\n",
      "                                        ESCOLA_DESCR ESCOLA_PUBPRIV  \n",
      "0  Escola BÃ¡sica e SecundÃ¡ria de Michel Giacometti            PUB  \n",
      "1            Escola BÃ¡sica e SecundÃ¡ria de Ourique            PUB  \n",
      "2  Escola BÃ¡sica e SecundÃ¡ria de Celorico de Basto            PUB  \n",
      "3    Escola BÃ¡sica e SecundÃ¡ria de Terras de Bouro            PUB  \n",
      "4   Escola BÃ¡sica e SecundÃ¡ria de Alfandega da FÃ©            PUB  \n",
      "Total rows: 4530\n",
      "Rows with at least one NaN: 2\n",
      "Percentage with NaN: 0.0%\n"
     ]
    }
   ],
   "source": [
    "#change to categories for efficiency and correctness\n",
    "df[\"ESCOLA\"] = df[\"ESCOLA\"].astype(\"category\")\n",
    "df[\"ESCOLA_DESCR\"] = df[\"ESCOLA_DESCR\"].astype(\"category\")\n",
    "df[\"ESCOLA_PUBPRIV\"] = df[\"ESCOLA_PUBPRIV\"].astype(\"category\")\n",
    "\n",
    "# see type of variables\n",
    "print(df.dtypes)\n",
    "print(df.head())\n",
    "\n",
    "# Total rows\n",
    "total_rows = len(df)\n",
    "\n",
    "# Rows with at least one NaN\n",
    "rows_with_nan = df.isna().any(axis=1).sum()\n",
    "\n",
    "print(f\"Total rows: {total_rows}\")\n",
    "print(f\"Rows with at least one NaN: {rows_with_nan}\")\n",
    "print(f\"Percentage with NaN: {(rows_with_nan/total_rows*100):.1f}%\")"
   ]
  },
  {
   "cell_type": "code",
   "execution_count": 55,
   "metadata": {},
   "outputs": [],
   "source": [
    "df.to_parquet(\"data_parquet/inflacao_escolas_anos.parquet\", engine=\"pyarrow\")  # Save"
   ]
  },
  {
   "cell_type": "markdown",
   "metadata": {},
   "source": [
    "7. inflacao_escolas"
   ]
  },
  {
   "cell_type": "code",
   "execution_count": 82,
   "metadata": {},
   "outputs": [
    {
     "name": "stdout",
     "output_type": "stream",
     "text": [
      "Number of sheets: 2\n",
      "\n",
      "Head of sheet 'Folha1':\n",
      "Empty DataFrame\n",
      "Columns: []\n",
      "Index: []\n",
      "\n",
      "Head of sheet 'Folha2':\n",
      "   ESCOLA   INFLACAO    INF_STD  NSAMPLES  \\\n",
      "0       2  30.116519  26.657631      2034   \n",
      "1      31  36.767654  29.290713       439   \n",
      "2      39  31.858726  28.988398       361   \n",
      "3      47  40.367316  28.125763       667   \n",
      "4      49  34.724376  27.158311      1883   \n",
      "\n",
      "                                        ESCOLA_DESCR ESCOLA_PUBPRIV  \n",
      "0  Escola BÃ¡sica e SecundÃ¡ria de Michel Giacometti            PUB  \n",
      "1  Escola BÃ¡sica e SecundÃ¡ria Dr. JoÃ£o de Brit...            PUB  \n",
      "2            Escola BÃ¡sica e SecundÃ¡ria de Ourique            PUB  \n",
      "3  Escola BÃ¡sica e SecundÃ¡ria de Cabeceiras de ...            PUB  \n",
      "4  Escola BÃ¡sica e SecundÃ¡ria de Celorico de Basto            PUB  \n",
      "ESCOLA              int64\n",
      "INFLACAO          float64\n",
      "INF_STD           float64\n",
      "NSAMPLES            int64\n",
      "ESCOLA_DESCR       object\n",
      "ESCOLA_PUBPRIV     object\n",
      "dtype: object\n"
     ]
    }
   ],
   "source": [
    "dfs = pd.read_excel(\"data_xlsx/inflacao_escolas.xlsx\", sheet_name=None, engine=\"openpyxl\")\n",
    "\n",
    "# Get the number of sheets\n",
    "num_sheets = len(dfs)\n",
    "print(f\"Number of sheets: {num_sheets}\")\n",
    "\n",
    "# Show the head of each sheet\n",
    "for sheet_name, df in dfs.items():\n",
    "    print(f\"\\nHead of sheet '{sheet_name}':\")\n",
    "    print(df.head())  # You can adjust the number of rows shown with head(n)\n",
    "\n",
    "df = dfs[\"Folha2\"]\n",
    "\n",
    "# see type of variables\n",
    "print(df.dtypes)\n",
    "\n",
    "has_leading_zeros = df['ESCOLA'].astype(str).str.match('^0+\\d+')\n",
    "if has_leading_zeros.any():\n",
    "    print(\"Found values with leading zeros\")\n",
    "    print(df[has_leading_zeros]['ESCOLA'])"
   ]
  },
  {
   "cell_type": "code",
   "execution_count": 83,
   "metadata": {},
   "outputs": [
    {
     "name": "stdout",
     "output_type": "stream",
     "text": [
      "ESCOLA            category\n",
      "INFLACAO           float64\n",
      "INF_STD            float64\n",
      "NSAMPLES             int64\n",
      "ESCOLA_DESCR      category\n",
      "ESCOLA_PUBPRIV    category\n",
      "dtype: object\n",
      "  ESCOLA   INFLACAO    INF_STD  NSAMPLES  \\\n",
      "0      2  30.116519  26.657631      2034   \n",
      "1     31  36.767654  29.290713       439   \n",
      "2     39  31.858726  28.988398       361   \n",
      "3     47  40.367316  28.125763       667   \n",
      "4     49  34.724376  27.158311      1883   \n",
      "\n",
      "                                        ESCOLA_DESCR ESCOLA_PUBPRIV  \n",
      "0  Escola BÃ¡sica e SecundÃ¡ria de Michel Giacometti            PUB  \n",
      "1  Escola BÃ¡sica e SecundÃ¡ria Dr. JoÃ£o de Brit...            PUB  \n",
      "2            Escola BÃ¡sica e SecundÃ¡ria de Ourique            PUB  \n",
      "3  Escola BÃ¡sica e SecundÃ¡ria de Cabeceiras de ...            PUB  \n",
      "4  Escola BÃ¡sica e SecundÃ¡ria de Celorico de Basto            PUB  \n",
      "Total rows: 674\n",
      "Rows with at least one NaN: 2\n",
      "Percentage with NaN: 0.3%\n"
     ]
    }
   ],
   "source": [
    "#change to categories for efficiency and correctness\n",
    "df[\"ESCOLA\"] = df[\"ESCOLA\"].astype(\"category\")\n",
    "df[\"ESCOLA_DESCR\"] = df[\"ESCOLA_DESCR\"].astype(\"category\")\n",
    "df[\"ESCOLA_PUBPRIV\"] = df[\"ESCOLA_PUBPRIV\"].astype(\"category\")\n",
    "\n",
    "# see type of variables\n",
    "print(df.dtypes)\n",
    "print(df.head())\n",
    "\n",
    "# Total rows\n",
    "total_rows = len(df)\n",
    "\n",
    "# Rows with at least one NaN\n",
    "rows_with_nan = df.isna().any(axis=1).sum()\n",
    "\n",
    "print(f\"Total rows: {total_rows}\")\n",
    "print(f\"Rows with at least one NaN: {rows_with_nan}\")\n",
    "print(f\"Percentage with NaN: {(rows_with_nan/total_rows*100):.1f}%\")"
   ]
  },
  {
   "cell_type": "code",
   "execution_count": 60,
   "metadata": {},
   "outputs": [],
   "source": [
    "df.to_parquet(\"data_parquet/inflacao_escolas.parquet\", engine=\"pyarrow\")  # Save"
   ]
  },
  {
   "cell_type": "code",
   "execution_count": null,
   "metadata": {},
   "outputs": [],
   "source": []
  }
 ],
 "metadata": {
  "kernelspec": {
   "display_name": "Python 3",
   "language": "python",
   "name": "python3"
  },
  "language_info": {
   "codemirror_mode": {
    "name": "ipython",
    "version": 3
   },
   "file_extension": ".py",
   "mimetype": "text/x-python",
   "name": "python",
   "nbconvert_exporter": "python",
   "pygments_lexer": "ipython3",
   "version": "3.11.4"
  }
 },
 "nbformat": 4,
 "nbformat_minor": 2
}
